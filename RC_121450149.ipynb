{
  "cells": [
    {
      "cell_type": "markdown",
      "source": [
        "# Yosia Letare Banurea\n",
        "#121450149\n",
        "#RA"
      ],
      "metadata": {
        "id": "b_KVUHwrH1dy"
      }
    },
    {
      "cell_type": "markdown",
      "source": [
        "## A Dataset to Play With"
      ],
      "metadata": {
        "id": "qrSbzSXdIL2A"
      }
    },
    {
      "cell_type": "code",
      "source": [
        "from google.colab import drive\n",
        "drive.mount('/content/drive')"
      ],
      "metadata": {
        "colab": {
          "base_uri": "https://localhost:8080/"
        },
        "id": "qgnF9v01_Id5",
        "outputId": "5f732785-4381-46ba-b769-2a2b0fc84018"
      },
      "execution_count": 21,
      "outputs": [
        {
          "output_type": "stream",
          "name": "stdout",
          "text": [
            "Drive already mounted at /content/drive; to attempt to forcibly remount, call drive.mount(\"/content/drive\", force_remount=True).\n"
          ]
        }
      ]
    },
    {
      "cell_type": "code",
      "execution_count": 31,
      "metadata": {
        "colab": {
          "base_uri": "https://localhost:8080/"
        },
        "id": "NCOALkDh40V0",
        "outputId": "734a72be-c022-4ae8-a6ce-71ad2333c97c"
      },
      "outputs": [
        {
          "output_type": "stream",
          "name": "stdout",
          "text": [
            "Loaded CIFAR-10 training set:\n",
            " - np.shape(images)     (50000, 32, 32, 3)\n",
            " - np.shape(labels)     (50000,)\n"
          ]
        }
      ],
      "source": [
        "import numpy as np\n",
        "import pickle\n",
        "from pathlib import Path\n",
        "\n",
        "# Path to the unzipped CIFAR data\n",
        "data_dir = Path(\"/content/drive/MyDrive/cifar-10-batches-py\")\n",
        "\n",
        "# Unpickle function provided by the CIFAR hosts\n",
        "def unpickle(file):\n",
        "    with open(file, \"rb\") as fo:\n",
        "        dict = pickle.load(fo, encoding=\"bytes\")\n",
        "    return dict\n",
        "\n",
        "images, labels = [], []\n",
        "for batch in data_dir.glob(\"data_batch_*\"):\n",
        "    batch_data = unpickle(batch)\n",
        "    for i, flat_im in enumerate(batch_data[b\"data\"]):\n",
        "        im_channels = []\n",
        "        # Each image is flattened, with channels in order of R, G, B\n",
        "        for j in range(3):\n",
        "            im_channels.append(\n",
        "                flat_im[j * 1024 : (j + 1) * 1024].reshape((32, 32))\n",
        "            )\n",
        "        # Reconstruct the original image\n",
        "        images.append(np.dstack((im_channels)))\n",
        "        # Save the label\n",
        "        labels.append(batch_data[b\"labels\"][i])\n",
        "\n",
        "print(\"Loaded CIFAR-10 training set:\")\n",
        "print(f\" - np.shape(images)     {np.shape(images)}\")\n",
        "print(f\" - np.shape(labels)     {np.shape(labels)}\")"
      ]
    },
    {
      "cell_type": "markdown",
      "metadata": {
        "id": "e1bmyhT340V1"
      },
      "source": [
        "\n",
        "Kode di atas digunakan untuk membaca dataset CIFAR-10. Dataset ini terdiri dari 50.000 gambar berwarna dengan resolusi 32x32 piksel, yang terbagi dalam 10 kelas. Pertama, modul-modul yang diperlukan diimpor, termasuk numpy untuk operasi numerik, pickle untuk membaca file pickle, dan Path dari pathlib untuk bekerja dengan path file. Selanjutnya, dataset CIFAR-10 yang telah diunggah ke Google Drive diakses melalui drive.mount('/content/drive') untuk mengaitkan Google Drive dengan Colab. Fungsi unpickle kemudian dibuat untuk membaca file pickle CIFAR-10. Setiap batch data CIFAR-10 dibaca dan direkonstruksi menjadi gambar berwarna penuh dari 3 kanal warna (R, G, B). Informasi tentang data yang telah dimuat, termasuk bentuk array gambar dan label, ditampilkan. Penting untuk dicatat bahwa kode ini ditulis untuk dijalankan di Google Colab dan mungkin memerlukan penyesuaian jika ingin dijalankan di lingkungan lokal."
      ]
    },
    {
      "cell_type": "markdown",
      "source": [
        "## Storing a Single Image"
      ],
      "metadata": {
        "id": "Y4gMvxNcIUJ7"
      }
    },
    {
      "cell_type": "code",
      "execution_count": 34,
      "metadata": {
        "id": "H-lUd5zY40V1"
      },
      "outputs": [],
      "source": [
        "from pathlib import Path\n",
        "\n",
        "disk_dir = Path(\"data/disk/\")\n",
        "lmdb_dir = Path(\"data/lmdb/\")\n",
        "hdf5_dir = Path(\"data/hdf5/\")"
      ]
    },
    {
      "cell_type": "code",
      "execution_count": 35,
      "metadata": {
        "id": "3-tlJUCP40V1"
      },
      "outputs": [],
      "source": [
        "disk_dir.mkdir(parents=True, exist_ok=True)\n",
        "lmdb_dir.mkdir(parents=True, exist_ok=True)\n",
        "hdf5_dir.mkdir(parents=True, exist_ok=True)"
      ]
    },
    {
      "cell_type": "markdown",
      "source": [
        "Code ini untuk membuat struktur direktori penyimpanan data dalam tiga format berbeda: disk, LMDB (Lightning Memory-Mapped Database), dan HDF5 (Hierarchical Data Format version 5). Pertama, modul Path dari pathlib diimpor untuk memungkinkan manipulasi path file. Selanjutnya, tiga objek Path dibuat untuk mewakili direktori penyimpanan untuk masing-masing format: disk_dir untuk penyimpanan di disk, lmdb_dir untuk LMDB, dan hdf5_dir untuk HDF5. Kemudian, metode mkdir(parents=True, exist_ok=True) digunakan untuk membuat direktori-direktori tersebut. Argumen parents=True digunakan agar direktori induk juga dibuat jika belum ada, sedangkan exist_ok=True memastikan bahwa pembuatan direktori tidak akan menyebabkan exception jika direktori tersebut sudah ada. Tujuan dari kode ini adalah untuk menyiapkan struktur direktori penyimpanan yang akan digunakan untuk menyimpan data dalam berbagai format, seperti gambar, data numerik, atau data lainnya, untuk keperluan pengolahan data"
      ],
      "metadata": {
        "id": "BRtgBxUXLeMe"
      }
    },
    {
      "cell_type": "markdown",
      "source": [
        "## Storing to Disk"
      ],
      "metadata": {
        "id": "1y2468dGIZQq"
      }
    },
    {
      "cell_type": "code",
      "execution_count": 36,
      "metadata": {
        "id": "4IuepLlF40V2"
      },
      "outputs": [],
      "source": [
        "from PIL import Image\n",
        "import csv\n",
        "\n",
        "def store_single_disk(image, image_id, label):\n",
        "    \"\"\" Stores a single image as a .png file on disk.\n",
        "        Parameters:\n",
        "        ---------------\n",
        "        image       image array, (32, 32, 3) to be stored\n",
        "        image_id    integer unique ID for image\n",
        "        label       image label\n",
        "    \"\"\"\n",
        "    Image.fromarray(image).save(disk_dir / f\"{image_id}.png\")\n",
        "\n",
        "    with open(disk_dir / f\"{image_id}.csv\", \"wt\") as csvfile:\n",
        "        writer = csv.writer(\n",
        "            csvfile, delimiter=\" \", quotechar=\"|\", quoting=csv.QUOTE_MINIMAL\n",
        "        )\n",
        "        writer.writerow([label])"
      ]
    },
    {
      "cell_type": "markdown",
      "source": [
        "##Storing to LMDB"
      ],
      "metadata": {
        "id": "knvtGw3UIdH0"
      }
    },
    {
      "cell_type": "code",
      "execution_count": 37,
      "metadata": {
        "id": "qh_N35yY40V2"
      },
      "outputs": [],
      "source": [
        "class CIFAR_Image:\n",
        "    def __init__(self, image, label):\n",
        "        # Dimensions of image for reconstruction - not really necessary\n",
        "        # for this dataset, but some datasets may include images of\n",
        "        # varying sizes\n",
        "        self.channels = image.shape[2]\n",
        "        self.size = image.shape[:2]\n",
        "\n",
        "        self.image = image.tobytes()\n",
        "        self.label = label\n",
        "\n",
        "    def get_image(self):\n",
        "        \"\"\" Returns the image as a numpy array. \"\"\"\n",
        "        image = np.frombuffer(self.image, dtype=np.uint8)\n",
        "        return image.reshape(*self.size, self.channels)"
      ]
    },
    {
      "cell_type": "code",
      "source": [
        "#!pip install lmdb"
      ],
      "metadata": {
        "id": "EnEFBaGg6MW8"
      },
      "execution_count": 38,
      "outputs": []
    },
    {
      "cell_type": "code",
      "execution_count": 39,
      "metadata": {
        "id": "JaYuzntp40V2"
      },
      "outputs": [],
      "source": [
        "import lmdb\n",
        "import pickle\n",
        "\n",
        "def store_single_lmdb(image, image_id, label):\n",
        "    \"\"\" Stores a single image to a LMDB.\n",
        "        Parameters:\n",
        "        ---------------\n",
        "        image       image array, (32, 32, 3) to be stored\n",
        "        image_id    integer unique ID for image\n",
        "        label       image label\n",
        "    \"\"\"\n",
        "    map_size = image.nbytes * 10\n",
        "\n",
        "    # Create a new LMDB environment\n",
        "    env = lmdb.open(str(lmdb_dir / f\"single_lmdb\"), map_size=map_size)\n",
        "\n",
        "    # Start a new write transaction\n",
        "    with env.begin(write=True) as txn:\n",
        "        # All key-value pairs need to be strings\n",
        "        value = CIFAR_Image(image, label)\n",
        "        key = f\"{image_id:08}\"\n",
        "        txn.put(key.encode(\"ascii\"), pickle.dumps(value))\n",
        "    env.close()"
      ]
    },
    {
      "cell_type": "markdown",
      "source": [
        "Code ini untuk menyimpan gambar dan labelnya ke dalam disk dalam format yang berbeda. Fungsi store_single_disk menerima tiga parameter: image yang merupakan array gambar dengan dimensi (32, 32, 3), image_id yang merupakan ID unik untuk gambar tersebut, dan label yang merupakan label gambar.\n",
        "\n",
        "Dengan menggunakan fungsi modul PIL untuk mengakses fungsi Image yang memungkinkan penyimpanan gambar dalam format PNG. Gambar disimpan ke dalam disk dengan menggunakan Image.fromarray(image).save(disk_dir / f\"{image_id}.png\"), di mana disk_dir / f\"{image_id}.png\" adalah path lengkap untuk menyimpan gambar.\n",
        "\n",
        "Selanjutnya, fungsi membuat file CSV untuk menyimpan label gambar. Fungsi csv.writer digunakan untuk menulis label ke dalam file CSV. Label ditulis ke dalam file dengan nama yang sama dengan ID gambar namun dengan ekstensi CSV ({image_id}.csv).\n",
        "\n",
        "Dengan fungsi store_single_disk, pengguna dapat dengan mudah menyimpan sebuah gambar ke dalam disk beserta labelnya dalam format yang sesuai.\n",
        "\n",
        "\n",
        "\n",
        "\n",
        "\n",
        "\n"
      ],
      "metadata": {
        "id": "H11dhgCHMxi7"
      }
    },
    {
      "cell_type": "markdown",
      "source": [
        "##Storing With HDF5"
      ],
      "metadata": {
        "id": "Ed8E-hvgIg3h"
      }
    },
    {
      "cell_type": "code",
      "execution_count": 40,
      "metadata": {
        "id": "T5dE_pai40V2"
      },
      "outputs": [],
      "source": [
        "import h5py\n",
        "\n",
        "def store_single_hdf5(image, image_id, label):\n",
        "    \"\"\" Stores a single image to an HDF5 file.\n",
        "        Parameters:\n",
        "        ---------------\n",
        "        image       image array, (32, 32, 3) to be stored\n",
        "        image_id    integer unique ID for image\n",
        "        label       image label\n",
        "    \"\"\"\n",
        "    # Create a new HDF5 file\n",
        "    file = h5py.File(hdf5_dir / f\"{image_id}.h5\", \"w\")\n",
        "\n",
        "    # Create a dataset in the file\n",
        "    dataset = file.create_dataset(\n",
        "        \"image\", np.shape(image), h5py.h5t.STD_U8BE, data=image\n",
        "    )\n",
        "    meta_set = file.create_dataset(\n",
        "        \"meta\", np.shape(label), h5py.h5t.STD_U8BE, data=label\n",
        "    )\n",
        "    file.close()"
      ]
    },
    {
      "cell_type": "markdown",
      "source": [
        "Pada Bagian ini untuk menyimpan sebuah gambar beserta labelnya ke dalam sebuah file HDF5. Fungsi store_single_hdf5 menerima tiga parameter: image yang merupakan array gambar dengan dimensi (32, 32, 3), image_id yang merupakan ID unik untuk gambar tersebut, dan label yang merupakan label gambar.\n",
        "\n",
        "Pertama, fungsi menggunakan modul h5py untuk membuat dan berinteraksi dengan file HDF5. Fungsi h5py.File digunakan untuk membuat file HDF5 baru dengan nama file yang ditentukan (hdf5_dir / f\"{image_id}.h5\").\n",
        "\n",
        "Selanjutnya, dua dataset dibuat di dalam file HDF5: satu untuk data gambar (\"image\") dan satu untuk label (\"meta\"). Metode create_dataset digunakan untuk tujuan ini, dengan menentukan nama dataset, bentuk, tipe data (h5py.h5t.STD_U8BE untuk data unsigned 8-bit), dan data yang akan disimpan.\n",
        "\n",
        "Terakhir, file HDF5 ditutup dengan menggunakan file.close(). Dengan menggunakan fungsi store_single_hdf5, pengguna dapat dengan mudah menyimpan sebuah gambar beserta labelnya ke dalam sebuah file HDF5 untuk keperluan pengolahan data atau pembelajaran mesin.\n",
        "\n",
        "\n",
        "\n",
        "\n",
        "\n",
        "\n"
      ],
      "metadata": {
        "id": "Jl_6dzUYNIlj"
      }
    },
    {
      "cell_type": "markdown",
      "source": [
        "##Experiments for Storing a Single Image"
      ],
      "metadata": {
        "id": "6QMgTl1LInG2"
      }
    },
    {
      "cell_type": "code",
      "execution_count": 41,
      "metadata": {
        "id": "VWUckLi840V2"
      },
      "outputs": [],
      "source": [
        "_store_single_funcs = dict(\n",
        "    disk=store_single_disk, lmdb=store_single_lmdb, hdf5=store_single_hdf5\n",
        ")"
      ]
    },
    {
      "cell_type": "code",
      "execution_count": 42,
      "metadata": {
        "colab": {
          "base_uri": "https://localhost:8080/"
        },
        "id": "gFvHdR5T40V2",
        "outputId": "dd8786c7-6cb6-4ee8-ebfd-9dc1632db4da"
      },
      "outputs": [
        {
          "output_type": "stream",
          "name": "stdout",
          "text": [
            "Method: disk, Time usage: 0.028307739999945625\n",
            "Method: lmdb, Time usage: 0.009082840999781183\n",
            "Method: hdf5, Time usage: 0.005928252999638062\n"
          ]
        }
      ],
      "source": [
        "from timeit import timeit\n",
        "\n",
        "store_single_timings = dict()\n",
        "\n",
        "for method in (\"disk\", \"lmdb\", \"hdf5\"):\n",
        "    t = timeit(\n",
        "        \"_store_single_funcs[method](image, 0, label)\",\n",
        "        setup=\"image=images[0]; label=labels[0]\",\n",
        "        number=1,\n",
        "        globals=globals(),\n",
        "    )\n",
        "    store_single_timings[method] = t\n",
        "    print(f\"Method: {method}, Time usage: {t}\")"
      ]
    },
    {
      "cell_type": "markdown",
      "source": [
        "Code ini untuk membandingkan waktu yang dibutuhkan untuk menyimpan sebuah gambar beserta labelnya ke dalam disk, LMDB, dan file HDF5. Pertama, sebuah kamus _store_single_funcs dibuat untuk menyimpan fungsi-fungsi yang digunakan untuk menyimpan gambar ke dalam masing-masing format.\n",
        "\n",
        "Selanjutnya, menggunakan modul timeit, waktu eksekusi dari setiap metode penyimpanan diukur untuk gambar pertama dalam dataset. Loop for digunakan untuk melakukan pengukuran untuk setiap metode penyimpanan.\n",
        "\n",
        "Hasil dari eksperimen ini menunjukkan bahwa penyimpanan menggunakan file HDF5 (hdf5) memiliki waktu eksekusi yang paling cepat, diikuti oleh LMDB (lmdb), dan yang paling lambat adalah penyimpanan ke dalam disk (disk). Hal ini menunjukkan bahwa pemilihan format penyimpanan dapat mempengaruhi kinerja aplikasi, terutama dalam hal waktu yang dibutuhkan untuk operasi penyimpanan dan pengambilan data. Dengan memahami karakteristik dari masing-masing format penyimpanan, pengembang dapat memilih format yang paling sesuai untuk kebutuhan aplikasi mereka.\n",
        "\n",
        "\n",
        "\n",
        "\n",
        "\n",
        "\n"
      ],
      "metadata": {
        "id": "5SCt_Hq7Nphd"
      }
    },
    {
      "cell_type": "markdown",
      "source": [
        "##Storing Many Images"
      ],
      "metadata": {
        "id": "fgvUqB75IsO4"
      }
    },
    {
      "cell_type": "code",
      "execution_count": 43,
      "metadata": {
        "id": "aMD2gHCe40V3"
      },
      "outputs": [],
      "source": [
        "def store_many_disk(images, labels):\n",
        "    \"\"\" Stores an array of images to disk\n",
        "        Parameters:\n",
        "        ---------------\n",
        "        images       images array, (N, 32, 32, 3) to be stored\n",
        "        labels       labels array, (N, 1) to be stored\n",
        "    \"\"\"\n",
        "    num_images = len(images)\n",
        "\n",
        "    # Save all the images one by one\n",
        "    for i, image in enumerate(images):\n",
        "        Image.fromarray(image).save(disk_dir / f\"{i}.png\")\n",
        "\n",
        "    # Save all the labels to the csv file\n",
        "    with open(disk_dir / f\"{num_images}.csv\", \"w\") as csvfile:\n",
        "        writer = csv.writer(\n",
        "            csvfile, delimiter=\" \", quotechar=\"|\", quoting=csv.QUOTE_MINIMAL\n",
        "        )\n",
        "        for label in labels:\n",
        "            # This typically would be more than just one value per row\n",
        "            writer.writerow([label])\n",
        "\n",
        "def store_many_lmdb(images, labels):\n",
        "    \"\"\" Stores an array of images to LMDB.\n",
        "        Parameters:\n",
        "        ---------------\n",
        "        images       images array, (N, 32, 32, 3) to be stored\n",
        "        labels       labels array, (N, 1) to be stored\n",
        "    \"\"\"\n",
        "    num_images = len(images)\n",
        "\n",
        "    map_size = num_images * images[0].nbytes * 10\n",
        "\n",
        "    # Create a new LMDB DB for all the images\n",
        "    env = lmdb.open(str(lmdb_dir / f\"{num_images}_lmdb\"), map_size=map_size)\n",
        "\n",
        "    # Same as before — but let's write all the images in a single transaction\n",
        "    with env.begin(write=True) as txn:\n",
        "        for i in range(num_images):\n",
        "            # All key-value pairs need to be Strings\n",
        "            value = CIFAR_Image(images[i], labels[i])\n",
        "            key = f\"{i:08}\"\n",
        "            txn.put(key.encode(\"ascii\"), pickle.dumps(value))\n",
        "    env.close()\n",
        "\n",
        "def store_many_hdf5(images, labels):\n",
        "    \"\"\" Stores an array of images to HDF5.\n",
        "        Parameters:\n",
        "        ---------------\n",
        "        images       images array, (N, 32, 32, 3) to be stored\n",
        "        labels       labels array, (N, 1) to be stored\n",
        "    \"\"\"\n",
        "    num_images = len(images)\n",
        "\n",
        "    # Create a new HDF5 file\n",
        "    file = h5py.File(hdf5_dir / f\"{num_images}_many.h5\", \"w\")\n",
        "\n",
        "    # Create a dataset in the file\n",
        "    dataset = file.create_dataset(\n",
        "        \"images\", np.shape(images), h5py.h5t.STD_U8BE, data=images\n",
        "    )\n",
        "    meta_set = file.create_dataset(\n",
        "        \"meta\", np.shape(labels), h5py.h5t.STD_U8BE, data=labels\n",
        "    )\n",
        "    file.close()"
      ]
    },
    {
      "cell_type": "markdown",
      "source": [
        "Code ini merupakan implementasi fungsi-fungsi untuk menyimpan banyak gambar beserta labelnya ke dalam disk, LMDB, dan file HDF5. Berikut adalah penjelasan singkat tentang setiap fungsi:\n",
        "\n",
        "* store_many_disk(images, labels): Fungsi ini menyimpan array gambar ke dalam disk dalam format PNG, satu gambar per file. Selain itu, label-label dari gambar disimpan dalam satu file CSV.\n",
        "* store_many_lmdb(images, labels): Fungsi ini menyimpan array gambar ke dalam database LMDB. LMDB digunakan karena efisiensinya dalam menyimpan data biner besar seperti gambar. Setiap gambar disimpan dengan kunci unik dalam format string, dan label-label disimpan bersama dengan gambar dalam format objek CIFAR_Image yang kemudian di-serialize menggunakan pickle.\n",
        "* store_many_hdf5(images, labels): Fungsi ini menyimpan array gambar ke dalam file HDF5. HDF5 digunakan karena kemampuannya untuk menyimpan data multidimensional dalam bentuk dataset. Setiap dataset dalam file HDF5 berisi array gambar atau label-label.\n",
        "\n",
        "\n",
        "Ketiga fungsi ini memungkinkan penyimpanan efisien dari banyak gambar bersama dengan labelnya dalam berbagai format penyimpanan"
      ],
      "metadata": {
        "id": "xkW5cIF3N_i5"
      }
    },
    {
      "cell_type": "markdown",
      "source": [
        "##Preparing the Dataset"
      ],
      "metadata": {
        "id": "9TXVwFXYIvZI"
      }
    },
    {
      "cell_type": "code",
      "execution_count": 44,
      "metadata": {
        "colab": {
          "base_uri": "https://localhost:8080/"
        },
        "id": "ZWf1pWf640V3",
        "outputId": "a36ab564-7cf2-46fa-c332-c1dc880aab80"
      },
      "outputs": [
        {
          "output_type": "stream",
          "name": "stdout",
          "text": [
            "(100000, 32, 32, 3)\n",
            "(100000,)\n"
          ]
        }
      ],
      "source": [
        "cutoffs = [10, 100, 1000, 10000, 100000]\n",
        "\n",
        "# Let's double our images so that we have 100,000\n",
        "images = np.concatenate((images, images), axis=0)\n",
        "labels = np.concatenate((labels, labels), axis=0)\n",
        "\n",
        "# Make sure you actually have 100,000 images and labels\n",
        "print(np.shape(images))\n",
        "print(np.shape(labels))"
      ]
    },
    {
      "cell_type": "markdown",
      "source": [
        "Code ini digunakan untuk mempersiapkan sebuah dataset dengan jumlah data yang cukup besar untuk pelatihan model. Pertama-tama, ada definisi dari variabel cutoffs yang menentukan batas jumlah data yang ingin dimiliki. Kemudian, terdapat perintah untuk menggandakan jumlah gambar dalam dataset hingga mencapai 100,000. Proses penggandaan ini dilakukan dengan menggunakan fungsi np.concatenate, yang menggabungkan array images dan labels ke dalam diri mereka sendiri. Ini dilakukan dengan menggabungkan array itu sendiri dengan sumbu 0 (axis=0), artinya data baru akan ditambahkan di baris baru setelah data yang sudah ada. Setelah penambahan data, dilakukan pencetakan bentuk dari array images dan labels untuk memastikan bahwa jumlah data telah mencapai target 100,000. Hasil cetakan menunjukkan bahwa bentuk array images adalah (100000, 32, 32, 3), yang menandakan bahwa terdapat 100,000 gambar dengan dimensi 32x32 pixel dan tiga saluran warna (RGB), sementara bentuk array labels adalah (100000,), menunjukkan bahwa terdapat 100,000 label yang sesuai dengan gambar-gambar tersebut. Dengan demikian, dataset telah berhasil disiapkan dengan jumlah data yang diinginkan."
      ],
      "metadata": {
        "id": "jNAMIvwUO-q2"
      }
    },
    {
      "cell_type": "markdown",
      "source": [
        "##Experiment for Storing Many Images"
      ],
      "metadata": {
        "id": "7_5Bn6UgIykJ"
      }
    },
    {
      "cell_type": "code",
      "execution_count": 45,
      "metadata": {
        "colab": {
          "base_uri": "https://localhost:8080/"
        },
        "id": "a6Jtn3SJ40V3",
        "outputId": "48408647-b9ff-43f3-f08b-b6f15dd08bbc"
      },
      "outputs": [
        {
          "output_type": "stream",
          "name": "stdout",
          "text": [
            "Method: disk, Time usage: 0.007747186999949918\n",
            "Method: lmdb, Time usage: 0.008566558999973495\n",
            "Method: hdf5, Time usage: 0.0031104939998840564\n",
            "Method: disk, Time usage: 0.04572852799992688\n",
            "Method: lmdb, Time usage: 0.02515209400007734\n",
            "Method: hdf5, Time usage: 0.003519635999964521\n",
            "Method: disk, Time usage: 0.48345337399996424\n",
            "Method: lmdb, Time usage: 0.042777183999987756\n",
            "Method: hdf5, Time usage: 0.006078934000015579\n",
            "Method: disk, Time usage: 5.264483131999896\n",
            "Method: lmdb, Time usage: 0.4975929110000834\n",
            "Method: hdf5, Time usage: 0.03036241900008463\n",
            "Method: disk, Time usage: 47.06680086000006\n",
            "Method: lmdb, Time usage: 4.210487470999851\n",
            "Method: hdf5, Time usage: 0.766715774000204\n"
          ]
        }
      ],
      "source": [
        "_store_many_funcs = dict(\n",
        "    disk=store_many_disk, lmdb=store_many_lmdb, hdf5=store_many_hdf5\n",
        ")\n",
        "\n",
        "from timeit import timeit\n",
        "\n",
        "store_many_timings = {\"disk\": [], \"lmdb\": [], \"hdf5\": []}\n",
        "\n",
        "for cutoff in cutoffs:\n",
        "    for method in (\"disk\", \"lmdb\", \"hdf5\"):\n",
        "        t = timeit(\n",
        "            \"_store_many_funcs[method](images_, labels_)\",\n",
        "            setup=\"images_=images[:cutoff]; labels_=labels[:cutoff]\",\n",
        "            number=1,\n",
        "            globals=globals(),\n",
        "        )\n",
        "        store_many_timings[method].append(t)\n",
        "\n",
        "        # Print out the method, cutoff, and elapsed time\n",
        "        print(f\"Method: {method}, Time usage: {t}\")"
      ]
    },
    {
      "cell_type": "markdown",
      "source": [
        "untuk menyimpan banyak gambar menggunakan tiga metode penyimpanan yang berbeda: disk, LMDB (Lightning Memory-Mapped Database), dan HDF5 (Hierarchical Data Format version 5). Pertama-tama, terdapat definisi dictionary _store_many_funcs yang memetakan nama metode penyimpanan ke fungsi yang sesuai untuk setiap metode. Kemudian, dilakukan import dari modul timeit untuk mengukur waktu eksekusi kode. Hasil pengukuran waktu penyimpanan untuk setiap metode dan jumlah data tertentu disimpan dalam dictionary store_many_timings.\n",
        "\n",
        "Selanjutnya, dilakukan iterasi melalui nilai-nilai dalam cutoffs, yang menentukan jumlah data yang akan digunakan dalam setiap iterasi. Di dalam iterasi ini, setiap metode penyimpanan (disk, LMDB, HDF5) dijalankan untuk menyimpan data sebanyak cutoff gambar. Pengukuran waktu dilakukan dengan menggunakan fungsi timeit, yang menjalankan fungsi penyimpanan sekali saja dengan parameter-parameter yang diberikan dalam setup. Waktu eksekusi kemudian dicatat dan disimpan dalam dictionary store_many_timings sesuai dengan metode penyimpanan yang digunakan.\n",
        "\n",
        "Hasil output menunjukkan waktu eksekusi untuk setiap metode penyimpanan dan setiap nilai cutoff yang digunakan dalam eksperimen. Dapat diamati bahwa waktu eksekusi meningkat seiring dengan peningkatan jumlah data yang disimpan, dan juga berbeda-beda antara metode penyimpanan. Metode penyimpanan disk membutuhkan waktu paling lama, sementara LMDB dan HDF5 cenderung lebih cepat, terutama saat jumlah data semakin besar. Hal ini menunjukkan bahwa pemilihan metode penyimpanan dapat memengaruhi kinerja dan waktu eksekusi dalam menyimpan banyak gambar."
      ],
      "metadata": {
        "id": "Ud8XUpPTPMu6"
      }
    },
    {
      "cell_type": "code",
      "execution_count": 46,
      "metadata": {
        "colab": {
          "base_uri": "https://localhost:8080/",
          "height": 1000
        },
        "id": "mM6PYcBs40V3",
        "outputId": "6406b08b-8fea-4986-d88d-38a296177ad3"
      },
      "outputs": [
        {
          "output_type": "stream",
          "name": "stderr",
          "text": [
            "<ipython-input-46-99d89538a067>:15: MatplotlibDeprecationWarning: The seaborn styles shipped by Matplotlib are deprecated since 3.6, as they no longer correspond to the styles shipped by seaborn. However, they will remain available as 'seaborn-v0_8-<style>'. Alternatively, directly use the seaborn API instead.\n",
            "  plt.style.use(\"seaborn-whitegrid\")\n"
          ]
        },
        {
          "output_type": "display_data",
          "data": {
            "text/plain": [
              "<Figure size 1000x700 with 1 Axes>"
            ],
            "image/png": "[encoded data removed]"
          },
          "metadata": {}
        },
        {
          "output_type": "stream",
          "name": "stderr",
          "text": [
            "<ipython-input-46-99d89538a067>:15: MatplotlibDeprecationWarning: The seaborn styles shipped by Matplotlib are deprecated since 3.6, as they no longer correspond to the styles shipped by seaborn. However, they will remain available as 'seaborn-v0_8-<style>'. Alternatively, directly use the seaborn API instead.\n",
            "  plt.style.use(\"seaborn-whitegrid\")\n"
          ]
        },
        {
          "output_type": "display_data",
          "data": {
            "text/plain": [
              "<Figure size 1000x700 with 1 Axes>"
            ],
            "image/png": "[encoded data removed]"
          },
          "metadata": {}
        }
      ],
      "source": [
        "import matplotlib.pyplot as plt\n",
        "\n",
        "def plot_with_legend(\n",
        "    x_range, y_data, legend_labels, x_label, y_label, title, log=False\n",
        "):\n",
        "    \"\"\" Displays a single plot with multiple datasets and matching legends.\n",
        "        Parameters:\n",
        "        --------------\n",
        "        x_range         list of lists containing x data\n",
        "        y_data          list of lists containing y values\n",
        "        legend_labels   list of string legend labels\n",
        "        x_label         x axis label\n",
        "        y_label         y axis label\n",
        "    \"\"\"\n",
        "    plt.style.use(\"seaborn-whitegrid\")\n",
        "    plt.figure(figsize=(10, 7))\n",
        "\n",
        "    if len(y_data) != len(legend_labels):\n",
        "        raise TypeError(\n",
        "            \"Error: number of data sets does not match number of labels.\"\n",
        "        )\n",
        "\n",
        "    all_plots = []\n",
        "    for data, label in zip(y_data, legend_labels):\n",
        "        if log:\n",
        "            temp, = plt.loglog(x_range, data, label=label)\n",
        "        else:\n",
        "            temp, = plt.plot(x_range, data, label=label)\n",
        "        all_plots.append(temp)\n",
        "\n",
        "    plt.title(title)\n",
        "    plt.xlabel(x_label)\n",
        "    plt.ylabel(y_label)\n",
        "    plt.legend(handles=all_plots)\n",
        "    plt.show()\n",
        "\n",
        "# Getting the store timings data to display\n",
        "disk_x = store_many_timings[\"disk\"]\n",
        "lmdb_x = store_many_timings[\"lmdb\"]\n",
        "hdf5_x = store_many_timings[\"hdf5\"]\n",
        "\n",
        "plot_with_legend(\n",
        "    cutoffs,\n",
        "    [disk_x, lmdb_x, hdf5_x],\n",
        "    [\"PNG files\", \"LMDB\", \"HDF5\"],\n",
        "    \"Number of images\",\n",
        "    \"Seconds to store\",\n",
        "    \"Storage time\",\n",
        "    log=False,\n",
        ")\n",
        "\n",
        "plot_with_legend(\n",
        "    cutoffs,\n",
        "    [disk_x, lmdb_x, hdf5_x],\n",
        "    [\"PNG files\", \"LMDB\", \"HDF5\"],\n",
        "    \"Number of images\",\n",
        "    \"Seconds to store\",\n",
        "    \"Log storage time\",\n",
        "    log=True,\n",
        ")"
      ]
    },
    {
      "cell_type": "markdown",
      "source": [
        "Dari grafik tersebut,dapat dilihat bahwa menyimpan gambar dalam file PNG adalah metode yang paling lambat. Menyimpan gambar dalam LMDB dan HDF5 jauh lebih cepat. Untuk sejumlah kecil gambar, HDF5 sedikit lebih cepat daripada LMDB. Namun, untuk jumlah gambar yang lebih besar, LMDB menjadi lebih cepat daripada HDF5. Secara keseluruhan, LMDB tampaknya menjadi cara paling efisien untuk menyimpan sejumlah besar gambar dari ketiga metode yang ditampilkan dalam grafik."
      ],
      "metadata": {
        "id": "63aTFg9PQfI5"
      }
    },
    {
      "cell_type": "markdown",
      "source": [
        "##Reading a Single Image"
      ],
      "metadata": {
        "id": "IQnyAydKI5eP"
      }
    },
    {
      "cell_type": "markdown",
      "source": [
        "###Reading From Disk"
      ],
      "metadata": {
        "id": "NOQ9vP3JJBEO"
      }
    },
    {
      "cell_type": "code",
      "execution_count": 47,
      "metadata": {
        "id": "UX5OmIvV40V3"
      },
      "outputs": [],
      "source": [
        "def read_single_disk(image_id):\n",
        "    \"\"\" Stores a single image to disk.\n",
        "        Parameters:\n",
        "        ---------------\n",
        "        image_id    integer unique ID for image\n",
        "\n",
        "        Returns:\n",
        "        ----------\n",
        "        image       image array, (32, 32, 3) to be stored\n",
        "        label       associated meta data, int label\n",
        "    \"\"\"\n",
        "    image = np.array(Image.open(disk_dir / f\"{image_id}.png\"))\n",
        "\n",
        "    with open(disk_dir / f\"{image_id}.csv\", \"r\") as csvfile:\n",
        "        reader = csv.reader(\n",
        "            csvfile, delimiter=\" \", quotechar=\"|\", quoting=csv.QUOTE_MINIMAL\n",
        "        )\n",
        "        label = int(next(reader)[0])\n",
        "\n",
        "    return image, label"
      ]
    },
    {
      "cell_type": "markdown",
      "source": [
        "Untuk metode pembacaan dari disk, terdapat fungsi read_single_disk(image_id) yang menerima parameter image_id, yang merupakan ID unik untuk gambar yang ingin dibaca. Fungsi ini membuka gambar dari file PNG dengan menggunakan modul Image dari library PIL (Python Imaging Library). Selain itu, label terkait dibaca dari file CSV yang memiliki format sederhana dengan menggunakan modul csv. Fungsi mengembalikan gambar dan label tersebut."
      ],
      "metadata": {
        "id": "NFTIcHkKRBRa"
      }
    },
    {
      "cell_type": "markdown",
      "source": [
        "###Reading From LMDB"
      ],
      "metadata": {
        "id": "gbRJQHPNJE9Y"
      }
    },
    {
      "cell_type": "code",
      "execution_count": 48,
      "metadata": {
        "id": "PVcmazkd40V4"
      },
      "outputs": [],
      "source": [
        "def read_single_lmdb(image_id):\n",
        "    \"\"\" Stores a single image to LMDB.\n",
        "        Parameters:\n",
        "        ---------------\n",
        "        image_id    integer unique ID for image\n",
        "\n",
        "        Returns:\n",
        "        ----------\n",
        "        image       image array, (32, 32, 3) to be stored\n",
        "        label       associated meta data, int label\n",
        "    \"\"\"\n",
        "    # Open the LMDB environment\n",
        "    env = lmdb.open(str(lmdb_dir / f\"single_lmdb\"), readonly=True)\n",
        "\n",
        "    # Start a new read transaction\n",
        "    with env.begin() as txn:\n",
        "        # Encode the key the same way as we stored it\n",
        "        data = txn.get(f\"{image_id:08}\".encode(\"ascii\"))\n",
        "        # Remember it's a CIFAR_Image object that is loaded\n",
        "        cifar_image = pickle.loads(data)\n",
        "        # Retrieve the relevant bits\n",
        "        image = cifar_image.get_image()\n",
        "        label = cifar_image.label\n",
        "    env.close()\n",
        "\n",
        "    return image, label"
      ]
    },
    {
      "cell_type": "markdown",
      "source": [
        "Untuk metode pembacaan dari LMDB, ada fungsi read_single_lmdb(image_id) yang juga menerima parameter image_id. Fungsi ini membuka lingkungan LMDB menggunakan modul lmdb dan memulai transaksi baca. Data gambar dan label yang sesuai dengan image_id diambil dari transaksi tersebut. Gambar didekode dari objek CIFAR_Image yang telah disimpan menggunakan pickle, sedangkan label diambil langsung dari objek CIFAR_Image. Setelah itu, lingkungan LMDB ditutup dan gambar serta label dikembalikan."
      ],
      "metadata": {
        "id": "QNt6pVlxREyk"
      }
    },
    {
      "cell_type": "markdown",
      "source": [
        "###Reading From HDF5"
      ],
      "metadata": {
        "id": "eU5h_hOPJKvk"
      }
    },
    {
      "cell_type": "code",
      "execution_count": 49,
      "metadata": {
        "id": "6ySK-y_840V4"
      },
      "outputs": [],
      "source": [
        "def read_single_hdf5(image_id):\n",
        "    \"\"\" Stores a single image to HDF5.\n",
        "        Parameters:\n",
        "        ---------------\n",
        "        image_id    integer unique ID for image\n",
        "\n",
        "        Returns:\n",
        "        ----------\n",
        "        image       image array, (32, 32, 3) to be stored\n",
        "        label       associated meta data, int label\n",
        "    \"\"\"\n",
        "    # Open the HDF5 file\n",
        "    file = h5py.File(hdf5_dir / f\"{image_id}.h5\", \"r+\")\n",
        "\n",
        "    image = np.array(file[\"/image\"]).astype(\"uint8\")\n",
        "    label = int(np.array(file[\"/meta\"]).astype(\"uint8\"))\n",
        "\n",
        "    return image, label"
      ]
    },
    {
      "cell_type": "markdown",
      "source": [
        "Untuk metode pembacaan dari HDF5, terdapat fungsi read_single_hdf5(image_id) yang juga menerima image_id sebagai parameter. Fungsi ini membuka file HDF5 menggunakan modul h5py. Data gambar dan label diambil dari dataset yang sesuai di dalam file HDF5. Gambar dibaca dari dataset bernama \"/image\", sementara label dibaca dari dataset bernama \"/meta\". Data gambar dan label dikembalikan setelah dibaca."
      ],
      "metadata": {
        "id": "ogdb8AdaRGsi"
      }
    },
    {
      "cell_type": "code",
      "execution_count": 50,
      "metadata": {
        "id": "nLlLcNip40V4"
      },
      "outputs": [],
      "source": [
        "_read_single_funcs = dict(\n",
        "    disk=read_single_disk, lmdb=read_single_lmdb, hdf5=read_single_hdf5\n",
        ")"
      ]
    },
    {
      "cell_type": "markdown",
      "source": [
        "Dictionary _read_single_funcs digunakan untuk memetakan nama metode penyimpanan ke fungsi pembacaannya masing-masing. Dengan demikian, fungsi-fungsi ini memungkinkan penggunaan yang fleksibel tergantung pada metode penyimpanan yang digunakan dalam dataset."
      ],
      "metadata": {
        "id": "JOvHaHpERIgU"
      }
    },
    {
      "cell_type": "markdown",
      "source": [
        "###Experiment for Reading a Single Image"
      ],
      "metadata": {
        "id": "HO_d46ArJPKs"
      }
    },
    {
      "cell_type": "code",
      "execution_count": 51,
      "metadata": {
        "colab": {
          "base_uri": "https://localhost:8080/"
        },
        "id": "KUrcgCGM40V4",
        "outputId": "47611f7d-1be8-4708-ec89-fa905c4a8689"
      },
      "outputs": [
        {
          "output_type": "stream",
          "name": "stdout",
          "text": [
            "Method: disk, Time usage: 0.00372383500007345\n",
            "Method: lmdb, Time usage: 0.00039023399995130603\n",
            "Method: hdf5, Time usage: 0.00501866299964604\n"
          ]
        }
      ],
      "source": [
        "from timeit import timeit\n",
        "\n",
        "read_single_timings = dict()\n",
        "\n",
        "for method in (\"disk\", \"lmdb\", \"hdf5\"):\n",
        "    t = timeit(\n",
        "        \"_read_single_funcs[method](0)\",\n",
        "        setup=\"image=images[0]; label=labels[0]\",\n",
        "        number=1,\n",
        "        globals=globals(),\n",
        "    )\n",
        "    read_single_timings[method] = t\n",
        "    print(f\"Method: {method}, Time usage: {t}\")"
      ]
    },
    {
      "cell_type": "markdown",
      "source": [
        "code ini digunakan untuk mengukur waktu pembacaan sebuah gambar tunggal dan label terkait dari tiga metode penyimpanan yang berbeda: disk, LMDB (Lightning Memory-Mapped Database), dan HDF5 (Hierarchical Data Format version 5).\n",
        "\n",
        "Hasil output menunjukkan waktu eksekusi untuk pembacaan sebuah gambar tunggal dan label terkait dari setiap metode penyimpanan. Dapat dilihat bahwa waktu eksekusi bervariasi antara metode-metode tersebut. Pembacaan dari LMDB (0.0003902 detik) merupakan yang paling cepat, diikuti oleh pembacaan dari disk (0.0037238 detik), dan yang terakhir adalah pembacaan dari HDF5 (0.0050187 detik). Hal ini menunjukkan bahwa pembacaan dari LMDB memiliki kinerja yang lebih cepat dibandingkan dengan metode pembacaan dari disk dan HDF5 untuk kasus pembacaan sebuah gambar tunggal.\n",
        "\n",
        "\n",
        "\n",
        "\n",
        "\n",
        "\n"
      ],
      "metadata": {
        "id": "41cG9Yr1RWWF"
      }
    },
    {
      "cell_type": "markdown",
      "source": [
        "##Reading Many Images"
      ],
      "metadata": {
        "id": "mpmdhxWlJbHs"
      }
    },
    {
      "cell_type": "markdown",
      "source": [
        "###Adjusting the Code for Many Images"
      ],
      "metadata": {
        "id": "UGkkACYEJykt"
      }
    },
    {
      "cell_type": "code",
      "execution_count": 52,
      "metadata": {
        "id": "QwJO0J-P40V4"
      },
      "outputs": [],
      "source": [
        "def read_many_disk(num_images):\n",
        "    \"\"\" Reads image from disk.\n",
        "        Parameters:\n",
        "        ---------------\n",
        "        num_images   number of images to read\n",
        "\n",
        "        Returns:\n",
        "        ----------\n",
        "        images      images array, (N, 32, 32, 3) to be stored\n",
        "        labels      associated meta data, int label (N, 1)\n",
        "    \"\"\"\n",
        "    images, labels = [], []\n",
        "\n",
        "    # Loop over all IDs and read each image in one by one\n",
        "    for image_id in range(num_images):\n",
        "        images.append(np.array(Image.open(disk_dir / f\"{image_id}.png\")))\n",
        "\n",
        "    with open(disk_dir / f\"{num_images}.csv\", \"r\") as csvfile:\n",
        "        reader = csv.reader(\n",
        "            csvfile, delimiter=\" \", quotechar=\"|\", quoting=csv.QUOTE_MINIMAL\n",
        "        )\n",
        "        for row in reader:\n",
        "            labels.append(int(row[0]))\n",
        "    return images, labels\n",
        "\n",
        "def read_many_lmdb(num_images):\n",
        "    \"\"\" Reads image from LMDB.\n",
        "        Parameters:\n",
        "        ---------------\n",
        "        num_images   number of images to read\n",
        "\n",
        "        Returns:\n",
        "        ----------\n",
        "        images      images array, (N, 32, 32, 3) to be stored\n",
        "        labels      associated meta data, int label (N, 1)\n",
        "    \"\"\"\n",
        "    images, labels = [], []\n",
        "    env = lmdb.open(str(lmdb_dir / f\"{num_images}_lmdb\"), readonly=True)\n",
        "\n",
        "    # Start a new read transaction\n",
        "    with env.begin() as txn:\n",
        "        # Read all images in one single transaction, with one lock\n",
        "        # We could split this up into multiple transactions if needed\n",
        "        for image_id in range(num_images):\n",
        "            data = txn.get(f\"{image_id:08}\".encode(\"ascii\"))\n",
        "            # Remember that it's a CIFAR_Image object\n",
        "            # that is stored as the value\n",
        "            cifar_image = pickle.loads(data)\n",
        "            # Retrieve the relevant bits\n",
        "            images.append(cifar_image.get_image())\n",
        "            labels.append(cifar_image.label)\n",
        "    env.close()\n",
        "    return images, labels\n",
        "\n",
        "def read_many_hdf5(num_images):\n",
        "    \"\"\" Reads image from HDF5.\n",
        "        Parameters:\n",
        "        ---------------\n",
        "        num_images   number of images to read\n",
        "\n",
        "        Returns:\n",
        "        ----------\n",
        "        images      images array, (N, 32, 32, 3) to be stored\n",
        "        labels      associated meta data, int label (N, 1)\n",
        "    \"\"\"\n",
        "    images, labels = [], []\n",
        "\n",
        "    # Open the HDF5 file\n",
        "    file = h5py.File(hdf5_dir / f\"{num_images}_many.h5\", \"r+\")\n",
        "\n",
        "    images = np.array(file[\"/images\"]).astype(\"uint8\")\n",
        "    labels = np.array(file[\"/meta\"]).astype(\"uint8\")\n",
        "\n",
        "    return images, labels\n",
        "\n",
        "_read_many_funcs = dict(\n",
        "    disk=read_many_disk, lmdb=read_many_lmdb, hdf5=read_many_hdf5\n",
        ")"
      ]
    },
    {
      "cell_type": "markdown",
      "source": [
        "\n",
        "Kode di atas mengadaptasi fungsi pembacaan untuk membaca banyak gambar sekaligus dari tiga metode penyimpanan yang berbeda: disk, LMDB, dan HDF5. Fungsi read_many_disk(num_images) membaca gambar dan label dari file PNG dan CSV, masing-masing, untuk setiap ID gambar dalam rentang yang ditentukan. Fungsi read_many_lmdb(num_images) membaca data dari lingkungan LMDB dalam satu transaksi, dengan mengambil gambar dan label yang sesuai untuk setiap ID gambar. Sedangkan fungsi read_many_hdf5(num_images) membaca data dari file HDF5, dengan mengambil gambar dan label dari dataset yang sesuai. Semua fungsi mengembalikan array gambar dan label untuk jumlah gambar yang ditentukan. Dictionary _read_many_funcs memetakan nama metode penyimpanan ke fungsi pembacaannya, memberikan fleksibilitas dalam penggunaan tergantung pada metode penyimpanan yang digunakan dalam dataset."
      ],
      "metadata": {
        "id": "hwSjQg8-SI_z"
      }
    },
    {
      "cell_type": "markdown",
      "source": [
        "###Experiment for Reading Many Images"
      ],
      "metadata": {
        "id": "g9U22SgtJsKU"
      }
    },
    {
      "cell_type": "code",
      "execution_count": 53,
      "metadata": {
        "colab": {
          "base_uri": "https://localhost:8080/"
        },
        "id": "B_N9JIVp40V4",
        "outputId": "62979e64-ea4c-4d79-efff-4f3e6f2c822d"
      },
      "outputs": [
        {
          "output_type": "stream",
          "name": "stdout",
          "text": [
            "Method: disk, No. images: 10, Time usage: 0.004969050999989122\n",
            "Method: lmdb, No. images: 10, Time usage: 0.0006435410000449338\n",
            "Method: hdf5, No. images: 10, Time usage: 0.002334582000003138\n",
            "Method: disk, No. images: 100, Time usage: 0.06459547200029192\n",
            "Method: lmdb, No. images: 100, Time usage: 0.002678989999822079\n",
            "Method: hdf5, No. images: 100, Time usage: 0.002453051999964373\n",
            "Method: disk, No. images: 1000, Time usage: 0.4039130340001975\n",
            "Method: lmdb, No. images: 1000, Time usage: 0.02127163399973142\n",
            "Method: hdf5, No. images: 1000, Time usage: 0.005680773999756639\n",
            "Method: disk, No. images: 10000, Time usage: 3.316332723999949\n",
            "Method: lmdb, No. images: 10000, Time usage: 0.13784933700026158\n",
            "Method: hdf5, No. images: 10000, Time usage: 0.03202942300003997\n",
            "Method: disk, No. images: 100000, Time usage: 30.005195590000312\n",
            "Method: lmdb, No. images: 100000, Time usage: 1.3953561759999502\n",
            "Method: hdf5, No. images: 100000, Time usage: 0.8875100769996607\n"
          ]
        }
      ],
      "source": [
        "from timeit import timeit\n",
        "\n",
        "read_many_timings = {\"disk\": [], \"lmdb\": [], \"hdf5\": []}\n",
        "\n",
        "for cutoff in cutoffs:\n",
        "    for method in (\"disk\", \"lmdb\", \"hdf5\"):\n",
        "        t = timeit(\n",
        "            \"_read_many_funcs[method](num_images)\",\n",
        "            setup=\"num_images=cutoff\",\n",
        "            number=1,\n",
        "            globals=globals(),\n",
        "        )\n",
        "        read_many_timings[method].append(t)\n",
        "\n",
        "        # Print out the method, cutoff, and elapsed time\n",
        "        print(f\"Method: {method}, No. images: {cutoff}, Time usage: {t}\")"
      ]
    },
    {
      "cell_type": "markdown",
      "source": [
        "code ini digunakan untuk mengukur waktu pembacaan banyak gambar sekaligus dari tiga metode penyimpanan yang berbeda: disk, LMDB (Lightning Memory-Mapped Database), dan HDF5 (Hierarchical Data Format version 5). Dalam eksperimen ini, terdapat nested loop yang mengiterasi melalui nilai-nilai dalam variabel cutoffs, yang menentukan jumlah gambar yang akan dibaca dalam setiap iterasi. Di dalam setiap iterasi tersebut, juga terdapat loop yang mengiterasi melalui metode-metode penyimpanan yang ada. Setiap metode penyimpanan dijalankan untuk membaca jumlah gambar yang ditentukan, dan waktu eksekusi untuk pembacaan tersebut diukur menggunakan fungsi timeit. Hasil pengukuran waktu pembacaan untuk setiap metode penyimpanan dan jumlah gambar tertentu dicatat dalam dictionary read_many_timings. Output dari eksperimen ini menunjukkan bahwa waktu pembacaan meningkat seiring dengan peningkatan jumlah gambar yang dibaca, dan berbeda-beda antara metode-metode penyimpanan. Metode pembacaan dari LMDB cenderung memiliki kinerja yang lebih cepat dibandingkan dengan metode pembacaan dari disk dan HDF5, terutama saat jumlah gambar semakin besar. Sedangkan, metode pembacaan dari HDF5 menunjukkan waktu eksekusi yang lebih baik dibandingkan dengan metode pembacaan dari disk saat jumlah gambar mencapai 100,000. Hal ini menunjukkan bahwa performa pembacaan banyak gambar tergantung pada jenis penyimpanan yang digunakan, dan pilihan metode penyimpanan dapat memengaruhi waktu eksekusi pembacaan data."
      ],
      "metadata": {
        "id": "TkD9uM2LSWKY"
      }
    }
  ],
  "metadata": {
    "kernelspec": {
      "display_name": "Python 3",
      "language": "python",
      "name": "python3"
    },
    "language_info": {
      "codemirror_mode": {
        "name": "ipython",
        "version": 3
      },
      "file_extension": ".py",
      "mimetype": "text/x-python",
      "name": "python",
      "nbconvert_exporter": "python",
      "pygments_lexer": "ipython3",
      "version": "3.9.13"
    },
    "colab": {
      "provenance": []
    }
  },
  "nbformat": 4,
  "nbformat_minor": 0
}